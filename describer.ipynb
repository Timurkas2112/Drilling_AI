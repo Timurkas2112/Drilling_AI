{
 "cells": [
  {
   "cell_type": "code",
   "execution_count": 1,
   "metadata": {},
   "outputs": [],
   "source": [
    "from together import Together\n",
    "import pandas as pd"
   ]
  },
  {
   "cell_type": "code",
   "execution_count": 4,
   "metadata": {},
   "outputs": [],
   "source": [
    "data = pd.read_json('tables_2.json')"
   ]
  },
  {
   "cell_type": "code",
   "execution_count": 5,
   "metadata": {},
   "outputs": [
    {
     "data": {
      "text/html": [
       "<div>\n",
       "<style scoped>\n",
       "    .dataframe tbody tr th:only-of-type {\n",
       "        vertical-align: middle;\n",
       "    }\n",
       "\n",
       "    .dataframe tbody tr th {\n",
       "        vertical-align: top;\n",
       "    }\n",
       "\n",
       "    .dataframe thead th {\n",
       "        text-align: right;\n",
       "    }\n",
       "</style>\n",
       "<table border=\"1\" class=\"dataframe\">\n",
       "  <thead>\n",
       "    <tr style=\"text-align: right;\">\n",
       "      <th></th>\n",
       "      <th>0</th>\n",
       "    </tr>\n",
       "  </thead>\n",
       "  <tbody>\n",
       "    <tr>\n",
       "      <th>0</th>\n",
       "      <td>bha_run: ['id', 'well_id', 'casing_column', 'i...</td>\n",
       "    </tr>\n",
       "    <tr>\n",
       "      <th>1</th>\n",
       "      <td>casing_column_descent_protocol_elements: ['id'...</td>\n",
       "    </tr>\n",
       "    <tr>\n",
       "      <th>2</th>\n",
       "      <td>auto_drilling_program_stage: ['id', 'version',...</td>\n",
       "    </tr>\n",
       "    <tr>\n",
       "      <th>3</th>\n",
       "      <td>auto_drilling_program: ['id', 'well_id', 'vers...</td>\n",
       "    </tr>\n",
       "    <tr>\n",
       "      <th>4</th>\n",
       "      <td>auto_drilling_template: ['id', 'title', 'stages']</td>\n",
       "    </tr>\n",
       "  </tbody>\n",
       "</table>\n",
       "</div>"
      ],
      "text/plain": [
       "                                                   0\n",
       "0  bha_run: ['id', 'well_id', 'casing_column', 'i...\n",
       "1  casing_column_descent_protocol_elements: ['id'...\n",
       "2  auto_drilling_program_stage: ['id', 'version',...\n",
       "3  auto_drilling_program: ['id', 'well_id', 'vers...\n",
       "4  auto_drilling_template: ['id', 'title', 'stages']"
      ]
     },
     "execution_count": 5,
     "metadata": {},
     "output_type": "execute_result"
    }
   ],
   "source": [
    "data.head()"
   ]
  },
  {
   "cell_type": "code",
   "execution_count": 6,
   "metadata": {},
   "outputs": [
    {
     "name": "stdout",
     "output_type": "stream",
     "text": [
      "<class 'pandas.core.frame.DataFrame'>\n",
      "RangeIndex: 264 entries, 0 to 263\n",
      "Data columns (total 1 columns):\n",
      " #   Column  Non-Null Count  Dtype \n",
      "---  ------  --------------  ----- \n",
      " 0   0       264 non-null    object\n",
      "dtypes: object(1)\n",
      "memory usage: 2.2+ KB\n"
     ]
    }
   ],
   "source": [
    "data.info()"
   ]
  },
  {
   "cell_type": "code",
   "execution_count": 7,
   "metadata": {},
   "outputs": [],
   "source": [
    "client = Together(api_key='b4364103a5e254529ba2e2b807127d0e722cf87e82e0436a12d68e3ae667ff0e')"
   ]
  },
  {
   "cell_type": "code",
   "execution_count": null,
   "metadata": {},
   "outputs": [],
   "source": [
    "def get_request(user_query, history=None):\n",
    "    prompt = \"\"\"\n",
    "    Ты должен помочь с описанием базы данных по бурению скважин. Тебе отправят таблицы, твоя же задача описать таблицу и также описать все параметры. Описать надо на русском языке.\n",
    "    Таблица:\n",
    "    \"crew: ['id', 'well_id', 'duration', 'end_date', 'full_name', 'job_title', 'notes', 'organization', 'start_date', 'version']\"\n",
    "    \"\"\"\n",
    "\n",
    "    messages = [\n",
    "        {\"role\": \"system\", \"content\": prompt},  # Промпт как системное сообщение\n",
    "    ]\n",
    "\n",
    "    # Добавляем историю чата, если она есть\n",
    "    if history:\n",
    "        for user_msg, assistant_msg in history:\n",
    "            messages.append({\"role\": \"user\", \"content\": user_msg})\n",
    "            messages.append({\"role\": \"assistant\", \"content\": assistant_msg})\n",
    "\n",
    "    # Добавляем текущий запрос пользователя\n",
    "    messages.append({\"role\": \"user\", \"content\": user_query})\n",
    "\n",
    "    # Отправляем запрос к модели\n",
    "    response = client.chat.completions.create(\n",
    "        model=\"meta-llama/Meta-Llama-3-8B-Instruct-Turbo\",\n",
    "        messages=messages,\n",
    "    )\n",
    "\n",
    "        # Получаем ответ модели\n",
    "    answer = response.choices[0].message.content\n",
    "\n",
    "    # # Обновляем историю чата\n",
    "    # if history is None:\n",
    "    #     history = []\n",
    "    # history.append((user_query, sql_query))  # Добавляем текущий запрос и ответ в историю\n",
    "\n",
    "    return answer\n",
    "\n"
   ]
  },
  {
   "cell_type": "code",
   "execution_count": 18,
   "metadata": {},
   "outputs": [
    {
     "name": "stdout",
     "output_type": "stream",
     "text": [
      "Таблица \"users\" хранит информацию о пользователях, связанных с бурением скважин.\n",
      "\n",
      "Параметры таблицы:\n",
      "\n",
      "* \"id\" - уникальный идентификатор пользователя, который служит PRIMARY KEY.\n",
      "* \"username\" - логин пользователя, который используется для входа в систему.\n",
      "* \"role_old\" - старый ролл пользователя, который может быть изменен в будущем.\n",
      "* \"organization\" - организация, к которой принадлежит пользователь.\n",
      "* \"phone_number\" - телефонный номер пользователя.\n",
      "* \"email\" - электронная почта пользователя.\n",
      "* \"keycloak_id\" - уникальный идентификатор пользователя в системе Keycloak.\n",
      "* \"operation_status\" - статус операции пользователя, который может быть \"active\", \"inactive\" или \"pending\".\n",
      "* \"created_by\" - пользователь, который создал запись в таблице.\n",
      "* \"created_date\" - дата создания записи в таблице.\n",
      "* \"last_modified_by\" - пользователь, который последний раз изменял запись в таблице.\n",
      "* \"last_modified_date\" - дата последнего изменения записи в таблице.\n",
      "* \"status\" - статус пользователя, который может быть \"active\", \"inactive\" или \"deleted\".\n",
      "\n",
      "Таблица \"users\" позволяет хранить информацию о пользователях, их ролях, организациях, контактной информации и статусе операции. Это помогает в управлении доступом к системе и отслеживанию изменений в информации о пользователях.\n"
     ]
    }
   ],
   "source": [
    "print(get_request(\"34\"))"
   ]
  },
  {
   "cell_type": "code",
   "execution_count": null,
   "metadata": {},
   "outputs": [],
   "source": []
  }
 ],
 "metadata": {
  "kernelspec": {
   "display_name": "Python 3",
   "language": "python",
   "name": "python3"
  },
  "language_info": {
   "codemirror_mode": {
    "name": "ipython",
    "version": 3
   },
   "file_extension": ".py",
   "mimetype": "text/x-python",
   "name": "python",
   "nbconvert_exporter": "python",
   "pygments_lexer": "ipython3",
   "version": "3.11.7"
  }
 },
 "nbformat": 4,
 "nbformat_minor": 2
}
