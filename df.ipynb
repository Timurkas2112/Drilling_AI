{
 "cells": [
  {
   "cell_type": "code",
   "execution_count": 55,
   "metadata": {},
   "outputs": [],
   "source": [
    "import re\n",
    "from sentence_transformers import SentenceTransformer"
   ]
  },
  {
   "cell_type": "code",
   "execution_count": 25,
   "metadata": {},
   "outputs": [
    {
     "name": "stderr",
     "output_type": "stream",
     "text": [
      "/Library/Frameworks/Python.framework/Versions/3.11/lib/python3.11/site-packages/tqdm/auto.py:21: TqdmWarning: IProgress not found. Please update jupyter and ipywidgets. See https://ipywidgets.readthedocs.io/en/stable/user_install.html\n",
      "  from .autonotebook import tqdm as notebook_tqdm\n"
     ]
    }
   ],
   "source": [
    "from sentence_transformers import CrossEncoder"
   ]
  },
  {
   "cell_type": "code",
   "execution_count": 1,
   "metadata": {},
   "outputs": [],
   "source": [
    "import pandas as pd"
   ]
  },
  {
   "cell_type": "code",
   "execution_count": 2,
   "metadata": {},
   "outputs": [],
   "source": [
    "df = pd.read_json(\"tables_3.json\")"
   ]
  },
  {
   "cell_type": "code",
   "execution_count": 3,
   "metadata": {},
   "outputs": [
    {
     "data": {
      "text/html": [
       "<div>\n",
       "<style scoped>\n",
       "    .dataframe tbody tr th:only-of-type {\n",
       "        vertical-align: middle;\n",
       "    }\n",
       "\n",
       "    .dataframe tbody tr th {\n",
       "        vertical-align: top;\n",
       "    }\n",
       "\n",
       "    .dataframe thead th {\n",
       "        text-align: right;\n",
       "    }\n",
       "</style>\n",
       "<table border=\"1\" class=\"dataframe\">\n",
       "  <thead>\n",
       "    <tr style=\"text-align: right;\">\n",
       "      <th></th>\n",
       "      <th>table</th>\n",
       "      <th>description</th>\n",
       "      <th>param</th>\n",
       "      <th>class</th>\n",
       "    </tr>\n",
       "  </thead>\n",
       "  <tbody>\n",
       "    <tr>\n",
       "      <th>0</th>\n",
       "      <td>bha_run</td>\n",
       "      <td>Журнал работы бурового инструмента (BHA)</td>\n",
       "      <td>{'well_id': 'ID скважины', 'interval_from/to':...</td>\n",
       "      <td>Техпараметры бурения</td>\n",
       "    </tr>\n",
       "    <tr>\n",
       "      <th>1</th>\n",
       "      <td>auto_drilling_program_stage</td>\n",
       "      <td>Этапы автоматизированной программы бурения</td>\n",
       "      <td>{'depth_from/to': 'Глубина начала/окончания эт...</td>\n",
       "      <td>Управление бурением</td>\n",
       "    </tr>\n",
       "    <tr>\n",
       "      <th>2</th>\n",
       "      <td>auto_drilling_program</td>\n",
       "      <td>Программы автоматического бурения</td>\n",
       "      <td>{'well_id': 'ID скважины', 'depth_from/to': 'Ц...</td>\n",
       "      <td>Управление бурением</td>\n",
       "    </tr>\n",
       "    <tr>\n",
       "      <th>3</th>\n",
       "      <td>drilling_parameter</td>\n",
       "      <td>Параметры бурения в реальном времени</td>\n",
       "      <td>{'rop_average': 'Средняя скорость проходки (м/...</td>\n",
       "      <td>Техпараметры бурения</td>\n",
       "    </tr>\n",
       "    <tr>\n",
       "      <th>4</th>\n",
       "      <td>operation</td>\n",
       "      <td>Журнал операций по скважине</td>\n",
       "      <td>{'operation_type': 'Тип операции (бурение, спу...</td>\n",
       "      <td>Мониторинг</td>\n",
       "    </tr>\n",
       "  </tbody>\n",
       "</table>\n",
       "</div>"
      ],
      "text/plain": [
       "                         table                                 description  \\\n",
       "0                      bha_run    Журнал работы бурового инструмента (BHA)   \n",
       "1  auto_drilling_program_stage  Этапы автоматизированной программы бурения   \n",
       "2        auto_drilling_program           Программы автоматического бурения   \n",
       "3           drilling_parameter        Параметры бурения в реальном времени   \n",
       "4                    operation                 Журнал операций по скважине   \n",
       "\n",
       "                                               param                 class  \n",
       "0  {'well_id': 'ID скважины', 'interval_from/to':...  Техпараметры бурения  \n",
       "1  {'depth_from/to': 'Глубина начала/окончания эт...   Управление бурением  \n",
       "2  {'well_id': 'ID скважины', 'depth_from/to': 'Ц...   Управление бурением  \n",
       "3  {'rop_average': 'Средняя скорость проходки (м/...  Техпараметры бурения  \n",
       "4  {'operation_type': 'Тип операции (бурение, спу...            Мониторинг  "
      ]
     },
     "execution_count": 3,
     "metadata": {},
     "output_type": "execute_result"
    }
   ],
   "source": [
    "df.head()"
   ]
  },
  {
   "cell_type": "code",
   "execution_count": 20,
   "metadata": {},
   "outputs": [],
   "source": [
    "def replace_slash(text):\n",
    "    return str(text).replace('/', ' ')"
   ]
  },
  {
   "cell_type": "code",
   "execution_count": 21,
   "metadata": {},
   "outputs": [],
   "source": [
    "def params_to_str(params):\n",
    "    if isinstance(params, dict):\n",
    "        param_str = ' '.join([f\"{k} {v}\" for k, v in params.items()])  # Ключ и значение через пробел\n",
    "        return replace_slash(param_str)  # Заменяем слэши\n",
    "    return replace_slash(str(params))"
   ]
  },
  {
   "cell_type": "code",
   "execution_count": 16,
   "metadata": {},
   "outputs": [
    {
     "data": {
      "text/plain": [
       "'well_id ID скважины interval_from / to Интервал бурения (м) chisel_type / size Тип / размер долота nnd_min / max / avg Мин / макс / средняя нагрузка на долото (тс) pressure_min / max Давление (атм) time_duration_hours Продолжительность работы (часы)'"
      ]
     },
     "execution_count": 16,
     "metadata": {},
     "output_type": "execute_result"
    }
   ],
   "source": [
    "params_to_str(df.param[0])"
   ]
  },
  {
   "cell_type": "code",
   "execution_count": 22,
   "metadata": {},
   "outputs": [],
   "source": [
    "df['combined_text'] = (\n",
    "    df['description'].str.lower() + ' ' +\n",
    "    df['param'].apply(params_to_str).str.lower() + ' ' +\n",
    "    df['class'].str.lower()\n",
    ")"
   ]
  },
  {
   "cell_type": "code",
   "execution_count": 23,
   "metadata": {},
   "outputs": [
    {
     "data": {
      "text/html": [
       "<div>\n",
       "<style scoped>\n",
       "    .dataframe tbody tr th:only-of-type {\n",
       "        vertical-align: middle;\n",
       "    }\n",
       "\n",
       "    .dataframe tbody tr th {\n",
       "        vertical-align: top;\n",
       "    }\n",
       "\n",
       "    .dataframe thead th {\n",
       "        text-align: right;\n",
       "    }\n",
       "</style>\n",
       "<table border=\"1\" class=\"dataframe\">\n",
       "  <thead>\n",
       "    <tr style=\"text-align: right;\">\n",
       "      <th></th>\n",
       "      <th>table</th>\n",
       "      <th>description</th>\n",
       "      <th>param</th>\n",
       "      <th>class</th>\n",
       "      <th>combined_text</th>\n",
       "    </tr>\n",
       "  </thead>\n",
       "  <tbody>\n",
       "    <tr>\n",
       "      <th>0</th>\n",
       "      <td>bha_run</td>\n",
       "      <td>Журнал работы бурового инструмента (BHA)</td>\n",
       "      <td>{'well_id': 'ID скважины', 'interval_from/to':...</td>\n",
       "      <td>Техпараметры бурения</td>\n",
       "      <td>журнал работы бурового инструмента (bha) well_...</td>\n",
       "    </tr>\n",
       "    <tr>\n",
       "      <th>1</th>\n",
       "      <td>auto_drilling_program_stage</td>\n",
       "      <td>Этапы автоматизированной программы бурения</td>\n",
       "      <td>{'depth_from/to': 'Глубина начала/окончания эт...</td>\n",
       "      <td>Управление бурением</td>\n",
       "      <td>этапы автоматизированной программы бурения dep...</td>\n",
       "    </tr>\n",
       "    <tr>\n",
       "      <th>2</th>\n",
       "      <td>auto_drilling_program</td>\n",
       "      <td>Программы автоматического бурения</td>\n",
       "      <td>{'well_id': 'ID скважины', 'depth_from/to': 'Ц...</td>\n",
       "      <td>Управление бурением</td>\n",
       "      <td>программы автоматического бурения well_id id с...</td>\n",
       "    </tr>\n",
       "    <tr>\n",
       "      <th>3</th>\n",
       "      <td>drilling_parameter</td>\n",
       "      <td>Параметры бурения в реальном времени</td>\n",
       "      <td>{'rop_average': 'Средняя скорость проходки (м/...</td>\n",
       "      <td>Техпараметры бурения</td>\n",
       "      <td>параметры бурения в реальном времени rop_avera...</td>\n",
       "    </tr>\n",
       "    <tr>\n",
       "      <th>4</th>\n",
       "      <td>operation</td>\n",
       "      <td>Журнал операций по скважине</td>\n",
       "      <td>{'operation_type': 'Тип операции (бурение, спу...</td>\n",
       "      <td>Мониторинг</td>\n",
       "      <td>журнал операций по скважине operation_type тип...</td>\n",
       "    </tr>\n",
       "  </tbody>\n",
       "</table>\n",
       "</div>"
      ],
      "text/plain": [
       "                         table                                 description  \\\n",
       "0                      bha_run    Журнал работы бурового инструмента (BHA)   \n",
       "1  auto_drilling_program_stage  Этапы автоматизированной программы бурения   \n",
       "2        auto_drilling_program           Программы автоматического бурения   \n",
       "3           drilling_parameter        Параметры бурения в реальном времени   \n",
       "4                    operation                 Журнал операций по скважине   \n",
       "\n",
       "                                               param                 class  \\\n",
       "0  {'well_id': 'ID скважины', 'interval_from/to':...  Техпараметры бурения   \n",
       "1  {'depth_from/to': 'Глубина начала/окончания эт...   Управление бурением   \n",
       "2  {'well_id': 'ID скважины', 'depth_from/to': 'Ц...   Управление бурением   \n",
       "3  {'rop_average': 'Средняя скорость проходки (м/...  Техпараметры бурения   \n",
       "4  {'operation_type': 'Тип операции (бурение, спу...            Мониторинг   \n",
       "\n",
       "                                       combined_text  \n",
       "0  журнал работы бурового инструмента (bha) well_...  \n",
       "1  этапы автоматизированной программы бурения dep...  \n",
       "2  программы автоматического бурения well_id id с...  \n",
       "3  параметры бурения в реальном времени rop_avera...  \n",
       "4  журнал операций по скважине operation_type тип...  "
      ]
     },
     "execution_count": 23,
     "metadata": {},
     "output_type": "execute_result"
    }
   ],
   "source": [
    "df.head()"
   ]
  },
  {
   "cell_type": "code",
   "execution_count": 24,
   "metadata": {},
   "outputs": [
    {
     "data": {
      "text/plain": [
       "'журнал работы бурового инструмента (bha) well_id id скважины interval_from to интервал бурения (м) chisel_type size тип размер долота nnd_min max avg мин макс средняя нагрузка на долото (тс) pressure_min max давление (атм) time_duration_hours продолжительность работы (часы) техпараметры бурения'"
      ]
     },
     "execution_count": 24,
     "metadata": {},
     "output_type": "execute_result"
    }
   ],
   "source": [
    "df.combined_text[0]"
   ]
  },
  {
   "cell_type": "code",
   "execution_count": 50,
   "metadata": {},
   "outputs": [],
   "source": [
    "reranker_model = CrossEncoder(\n",
    "    model_name=\"DiTy/cross-encoder-russian-msmarco\",\n",
    "    max_length=512)"
   ]
  },
  {
   "cell_type": "code",
   "execution_count": 27,
   "metadata": {},
   "outputs": [],
   "source": [
    "query = \"какие шаблонные размеры имеет лист документа\""
   ]
  },
  {
   "cell_type": "code",
   "execution_count": 28,
   "metadata": {},
   "outputs": [],
   "source": [
    "candidates = [\n",
    "    \"Позиция была создана в 1849 году, за год до того, как Калифорния стала штатом. Нынешний губернатор - Джерри Браун, демократ, вступивший в должность 3 января 2011 года и ранее занимавший пост губернатора с 1975 по 1983 год. В октябре 2013 года Браун превзошел графа Уоррена по самому продолжительному совокупному периоду времени, когда он занимал пост губернатора. Из 38 губернаторов, занимавших этот пост, семь из них фактически родились в Калифорнии (шесть из них после обретения статуса штата): 2 Один (Ромуальдо Пачеко) родился в Санта-Барбаре. 3 Четверо (Джордж Парди, Джеймс Рольф, Пэт Браун и Джерри Браун) родились в Сан-Франциско.\",\n",
    "    \"Исполняющий обязанности губернатора - это конституционная должность, созданная в некоторых штатах США, когда губернатор умирает при исполнении служебных обязанностей или уходит в отставку. В некоторых штатах губернатор может быть объявлен недееспособным и неспособным работать по разным причинам, включая болезнь и отсутствие в штате более определенного периода. Исполняющий обязанности губернатора исполняет обязанности до следующих всеобщих выборов, пока губернатор не выздоровеет. от его / ее травм, или, если губернатор умирает / уходит в отставку менее чем за 16 месяцев до окончания срока, до конца срока.\",\n",
    "    'Каждый лист документа должен иметь поля: левое – не менее 25 мм, правое – 15−20 мм, верхнее и нижнее – не менее 20 мм. Документы печатаются, как правило, на одной стороне листа. При печатании документа на оборотной стороне листа размер левого поля должен быть 15–20 мм, правого – не менее 25 мм, верхнего и нижнего – не менее 20 мм.',\n",
    "    \"На основе описей дел постоянного хранения и дел по личному составу составляются в соответствии с рекомендациями и требованиями соответствующего архивного учреждения годовые разделы соответствующих сводных описей дел аппарата управления общества, а также филиала и структурного подразделения, относящихся к источникам комплектования Архивного фонда Российской Федерации и заключивших с архивным учреждением договор о сотрудничестве (приложение № 16).\",\n",
    "    \"Входящие документы, не требующие рассмотрения руководителем общества (его заместителями), направляются работником службы делопроизводства непосредственно в подразделения общества.\",\n",
    "    \"Если в поступившем документе имеется ссылка на другие документы, отдел документационного обеспечения или служба делопроизводства соответствующего подразделения прилагает их (их копии) к поступившему документу.\",\n",
    "]"
   ]
  },
  {
   "cell_type": "code",
   "execution_count": 66,
   "metadata": {},
   "outputs": [],
   "source": [
    "candidates = df.combined_text.tolist()"
   ]
  },
  {
   "cell_type": "code",
   "execution_count": 33,
   "metadata": {},
   "outputs": [],
   "source": [
    "query = \"Выведи данные о всех пользователях\""
   ]
  },
  {
   "cell_type": "code",
   "execution_count": 64,
   "metadata": {},
   "outputs": [],
   "source": [
    "rank_result = reranker_model.rank(query, candidates[0:20])"
   ]
  },
  {
   "cell_type": "code",
   "execution_count": 65,
   "metadata": {},
   "outputs": [
    {
     "data": {
      "text/plain": [
       "[{'corpus_id': 18, 'score': 0.0041263895},\n",
       " {'corpus_id': 19, 'score': 0.002956605},\n",
       " {'corpus_id': 3, 'score': 0.0027691661},\n",
       " {'corpus_id': 6, 'score': 0.0022125598},\n",
       " {'corpus_id': 8, 'score': 0.0021909778},\n",
       " {'corpus_id': 16, 'score': 0.0014262607},\n",
       " {'corpus_id': 0, 'score': 0.0013529216},\n",
       " {'corpus_id': 4, 'score': 0.0013425458},\n",
       " {'corpus_id': 12, 'score': 0.0013191095},\n",
       " {'corpus_id': 1, 'score': 0.0011970515},\n",
       " {'corpus_id': 9, 'score': 0.0011938985},\n",
       " {'corpus_id': 10, 'score': 0.0011808786},\n",
       " {'corpus_id': 14, 'score': 0.0011798189},\n",
       " {'corpus_id': 13, 'score': 0.0011794363},\n",
       " {'corpus_id': 5, 'score': 0.0011696541},\n",
       " {'corpus_id': 17, 'score': 0.0011261913},\n",
       " {'corpus_id': 15, 'score': 0.0010985039},\n",
       " {'corpus_id': 11, 'score': 0.0010840694},\n",
       " {'corpus_id': 2, 'score': 0.0010823255},\n",
       " {'corpus_id': 7, 'score': 0.0010739246}]"
      ]
     },
     "execution_count": 65,
     "metadata": {},
     "output_type": "execute_result"
    }
   ],
   "source": [
    "rank_result"
   ]
  },
  {
   "cell_type": "code",
   "execution_count": 39,
   "metadata": {},
   "outputs": [
    {
     "data": {
      "text/plain": [
       "'пользователи системы username логин role_old роль (устаревшее) organization организация управление доступом'"
      ]
     },
     "execution_count": 39,
     "metadata": {},
     "output_type": "execute_result"
    }
   ],
   "source": [
    "candidates[134]"
   ]
  },
  {
   "cell_type": "code",
   "execution_count": 41,
   "metadata": {},
   "outputs": [
    {
     "data": {
      "text/plain": [
       "table                                                        tasks\n",
       "description                                 Фоновые задачи системы\n",
       "param            {'payload': 'Данные задачи (JSON)', 'status': ...\n",
       "class                                                Автоматизация\n",
       "combined_text    фоновые задачи системы payload данные задачи (...\n",
       "Name: 157, dtype: object"
      ]
     },
     "execution_count": 41,
     "metadata": {},
     "output_type": "execute_result"
    }
   ],
   "source": [
    "df.iloc[157]"
   ]
  },
  {
   "cell_type": "code",
   "execution_count": 56,
   "metadata": {},
   "outputs": [],
   "source": [
    "model = SentenceTransformer(\n",
    "    model_name_or_path=\"DiTy/bi-encoder-russian-msmarco\")"
   ]
  },
  {
   "cell_type": "code",
   "execution_count": 57,
   "metadata": {},
   "outputs": [],
   "source": [
    "import torch\n",
    "\n",
    "\n",
    "def normalize_embeddings(emb):\n",
    "    return torch.nn.functional.normalize(torch.Tensor(emb).unsqueeze(0), p=2, dim=1)\n",
    "\n",
    "\n",
    "def cos_sim(a, b):\n",
    "    a_norm = normalize_embeddings(a)\n",
    "    b_norm = normalize_embeddings(b)\n",
    "\n",
    "    return torch.mm(a_norm, b_norm.transpose(0, 1)).item()\n",
    "\n",
    "\n",
    "def semantic_search(query, candidates, top_k=1):\n",
    "    assert candidates.shape[0] >= top_k, \"Error, count candidates < top_k value\"\n",
    "    scores = []\n",
    "\n",
    "    for candidate in candidates:\n",
    "        # считаем косинусную близость по каждому кандидату\n",
    "        scores.append(cos_sim(query, candidate))\n",
    "    # выбираем только top-k кандидатов\n",
    "    values, ids = torch.topk(torch.Tensor(scores), k=top_k, sorted=True)\n",
    "\n",
    "    return [{'id': id_, 'score': value_} for id_, value_ in zip(ids.cpu().tolist(), values.cpu().tolist())]"
   ]
  },
  {
   "cell_type": "code",
   "execution_count": 58,
   "metadata": {},
   "outputs": [],
   "source": [
    "# преобразуем кандидатов в векторы\n",
    "embeddings = model.encode(candidates)\n",
    "# преобразуем запрос в вектор\n",
    "query_embeddings = model.encode(query)"
   ]
  },
  {
   "cell_type": "code",
   "execution_count": 59,
   "metadata": {},
   "outputs": [],
   "source": [
    "results = semantic_search(query_embeddings, embeddings, top_k=5)"
   ]
  },
  {
   "cell_type": "code",
   "execution_count": 60,
   "metadata": {},
   "outputs": [
    {
     "data": {
      "text/plain": [
       "[{'id': 151, 'score': 0.22965764999389648},\n",
       " {'id': 149, 'score': 0.1542915403842926},\n",
       " {'id': 20, 'score': 0.14054036140441895},\n",
       " {'id': 133, 'score': 0.12165237963199615},\n",
       " {'id': 97, 'score': 0.09457278251647949}]"
      ]
     },
     "execution_count": 60,
     "metadata": {},
     "output_type": "execute_result"
    }
   ],
   "source": [
    "results"
   ]
  },
  {
   "cell_type": "code",
   "execution_count": 63,
   "metadata": {},
   "outputs": [
    {
     "data": {
      "text/plain": [
       "table                                      work_of_special_technic\n",
       "description                                     Работа спецтехники\n",
       "param            {'vehicle_name': 'Тип техники', 'quantity': 'К...\n",
       "class                                                    Логистика\n",
       "combined_text    работа спецтехники vehicle_name тип техники qu...\n",
       "Name: 20, dtype: object"
      ]
     },
     "execution_count": 63,
     "metadata": {},
     "output_type": "execute_result"
    }
   ],
   "source": [
    "df.iloc[20]"
   ]
  },
  {
   "cell_type": "code",
   "execution_count": 85,
   "metadata": {},
   "outputs": [],
   "source": [
    "from vectorizer import create_table_embeddings, find_relevant_tables"
   ]
  },
  {
   "cell_type": "code",
   "execution_count": 86,
   "metadata": {},
   "outputs": [],
   "source": [
    "table_embeddings = create_table_embeddings(candidates)"
   ]
  },
  {
   "cell_type": "code",
   "execution_count": 89,
   "metadata": {},
   "outputs": [],
   "source": [
    "relevant_tables = find_relevant_tables(query, table_embeddings, 40)"
   ]
  },
  {
   "cell_type": "code",
   "execution_count": 90,
   "metadata": {},
   "outputs": [
    {
     "data": {
      "text/plain": [
       "['договоры с подрядчиками name наименование договора подрядчики',\n",
       " 'нормативы расхода реагентов name наименование value норма расхода (кг м) нормативы',\n",
       " 'шаблоны планов для кустовых площадок title наименование шаблона шаблоны',\n",
       " 'типы буровых установок value наименование order порядок сортировки оборудование',\n",
       " 'наименования обсадных колонн value название (кондуктор, эксплуатационная и т.д.) order порядковый номер конструкция скважин',\n",
       " 'вводные данные по скважине date_plan fact плановая фактическая дата ввода version версия данных администрирование',\n",
       " 'фактические данные ггд (гидродинамических исследований) rop скорость проходки (м ч) bottomhole забойные условия гис',\n",
       " 'планы бурения title наименование плана планы',\n",
       " 'нормативы расхода реагентов name наименование реагента value норматив расхода (кг м) нормативы',\n",
       " 'типы сервисных услуг code код услуги title наименование сервисы',\n",
       " 'должности сотрудников value наименование персонал',\n",
       " 'подрядные организации value наименование контрагенты',\n",
       " 'группы экологических нормативов name наименование группы is_actual актуальность нормативы',\n",
       " 'история миграций базы данных script имя скрипта checksum контрольная сумма системные',\n",
       " 'типы резьбовых соединений value наименование комплектующие',\n",
       " 'планы кустовых площадок drilling_company буровая компания drilling_date_start дата начала бурения планы',\n",
       " 'потребность в реагентах reagent_name наименование total общая потребность (кг) планирование',\n",
       " 'расход материально-технических ресурсов name наименование мтр expense_per_day суточный расход balance остаток мтр',\n",
       " 'расход реагентов для цементирования name наименование expense_per_section расход на интервал (кг) учет',\n",
       " 'фактический расход реагентов для крепления name наименование expense_per_day суточный расход (кг) учет',\n",
       " 'планировщики заданий root_id корневой элемент расписания планирование',\n",
       " 'фактические данные ггд rop скорость проходки (м ч) bottomhole забойные условия гидродинамика',\n",
       " 'справочник подстилающих пластов value наименование справочники',\n",
       " 'инциденты при бурении start_depth глубина начала инцидента (м) taken_action принятые меры аварии',\n",
       " 'элементы ггд-исследований work_type тип работы (испытание, опрессовка) msp забойное давление (атм) гис',\n",
       " 'подгруппы файлов title название подгруппы has_plan_fact флаг плановых фактических данных классификация',\n",
       " 'справочник оборудования обсадных колонн value наименование оборудования справочники',\n",
       " 'учет буровых отходов fact_bsh фактический объем бурового шлама (м³) plan_jfob плановый объем жфоб (м³) ttn_waste_transfer номер ттн на передачу отходов отходы бурения',\n",
       " 'события планировщика date_from to период действия status статус (активно отменено) планирование',\n",
       " 'теги для классификации файлов title название тега well_id привязка к скважине (опционально) методанные',\n",
       " 'типы долот value наименование (pdc, шарошечное) инструмент',\n",
       " 'типы каротажных исследований value тип каротажа справочники',\n",
       " 'общая информация по проекту customer заказчик project_horizon целевой горизонт основные данные',\n",
       " 'логотипы организаций file_code код файла content бинарные данные медиа',\n",
       " 'основные данные проекта name наименование проекта field месторождение well_depth проектная глубина скважины (м) основные данные',\n",
       " 'расход химических реагентов name наименование реагента expense_per_day суточный расход (кг) balance остаток (кг) материалы',\n",
       " 'фактический расход реагентов name наименование реагента expense_per_day расход в сутки (кг) casing_column тип обсадной колонны материалы',\n",
       " 'элементы экологических нормативов work_type вид работ duration норма времени (часы) unit единица измерения нормативы',\n",
       " 'расход реагентов при цементировании name наименование реагента expense_per_day расход в сутки (кг) balance остаток (кг) материалы',\n",
       " 'ревизии планов бурения title наименование ревизии drilling_plan_id ссылка на план планы']"
      ]
     },
     "execution_count": 90,
     "metadata": {},
     "output_type": "execute_result"
    }
   ],
   "source": [
    "relevant_tables"
   ]
  },
  {
   "cell_type": "code",
   "execution_count": 77,
   "metadata": {},
   "outputs": [],
   "source": [
    "df.to_csv(r\"/Users/timursaitbatalov/Desktop/AI_Drillig/data.csv\", index=False, sep=\";\")"
   ]
  },
  {
   "cell_type": "code",
   "execution_count": null,
   "metadata": {},
   "outputs": [],
   "source": []
  }
 ],
 "metadata": {
  "kernelspec": {
   "display_name": "Python 3",
   "language": "python",
   "name": "python3"
  },
  "language_info": {
   "codemirror_mode": {
    "name": "ipython",
    "version": 3
   },
   "file_extension": ".py",
   "mimetype": "text/x-python",
   "name": "python",
   "nbconvert_exporter": "python",
   "pygments_lexer": "ipython3",
   "version": "3.11.7"
  }
 },
 "nbformat": 4,
 "nbformat_minor": 2
}
