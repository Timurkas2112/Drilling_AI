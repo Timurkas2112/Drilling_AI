{
 "cells": [
  {
   "cell_type": "code",
   "execution_count": 1,
   "metadata": {},
   "outputs": [
    {
     "name": "stderr",
     "output_type": "stream",
     "text": [
      "/Library/Frameworks/Python.framework/Versions/3.11/lib/python3.11/site-packages/tqdm/auto.py:21: TqdmWarning: IProgress not found. Please update jupyter and ipywidgets. See https://ipywidgets.readthedocs.io/en/stable/user_install.html\n",
      "  from .autonotebook import tqdm as notebook_tqdm\n"
     ]
    }
   ],
   "source": [
    "import re\n",
    "from sentence_transformers import SentenceTransformer"
   ]
  },
  {
   "cell_type": "code",
   "execution_count": 25,
   "metadata": {},
   "outputs": [
    {
     "name": "stderr",
     "output_type": "stream",
     "text": [
      "/Library/Frameworks/Python.framework/Versions/3.11/lib/python3.11/site-packages/tqdm/auto.py:21: TqdmWarning: IProgress not found. Please update jupyter and ipywidgets. See https://ipywidgets.readthedocs.io/en/stable/user_install.html\n",
      "  from .autonotebook import tqdm as notebook_tqdm\n"
     ]
    }
   ],
   "source": [
    "from sentence_transformers import CrossEncoder"
   ]
  },
  {
   "cell_type": "code",
   "execution_count": 2,
   "metadata": {},
   "outputs": [],
   "source": [
    "import pandas as pd"
   ]
  },
  {
   "cell_type": "code",
   "execution_count": 3,
   "metadata": {},
   "outputs": [],
   "source": [
    "df = pd.read_json(\"tables_3.json\")"
   ]
  },
  {
   "cell_type": "code",
   "execution_count": 4,
   "metadata": {},
   "outputs": [
    {
     "data": {
      "text/html": [
       "<div>\n",
       "<style scoped>\n",
       "    .dataframe tbody tr th:only-of-type {\n",
       "        vertical-align: middle;\n",
       "    }\n",
       "\n",
       "    .dataframe tbody tr th {\n",
       "        vertical-align: top;\n",
       "    }\n",
       "\n",
       "    .dataframe thead th {\n",
       "        text-align: right;\n",
       "    }\n",
       "</style>\n",
       "<table border=\"1\" class=\"dataframe\">\n",
       "  <thead>\n",
       "    <tr style=\"text-align: right;\">\n",
       "      <th></th>\n",
       "      <th>table</th>\n",
       "      <th>description</th>\n",
       "      <th>param</th>\n",
       "      <th>class</th>\n",
       "    </tr>\n",
       "  </thead>\n",
       "  <tbody>\n",
       "    <tr>\n",
       "      <th>0</th>\n",
       "      <td>bha_run</td>\n",
       "      <td>Журнал работы бурового инструмента (BHA)</td>\n",
       "      <td>{'well_id': 'ID скважины', 'interval_from/to':...</td>\n",
       "      <td>Техпараметры бурения</td>\n",
       "    </tr>\n",
       "    <tr>\n",
       "      <th>1</th>\n",
       "      <td>auto_drilling_program_stage</td>\n",
       "      <td>Этапы автоматизированной программы бурения</td>\n",
       "      <td>{'depth_from/to': 'Глубина начала/окончания эт...</td>\n",
       "      <td>Управление бурением</td>\n",
       "    </tr>\n",
       "    <tr>\n",
       "      <th>2</th>\n",
       "      <td>auto_drilling_program</td>\n",
       "      <td>Программы автоматического бурения</td>\n",
       "      <td>{'well_id': 'ID скважины', 'depth_from/to': 'Ц...</td>\n",
       "      <td>Управление бурением</td>\n",
       "    </tr>\n",
       "    <tr>\n",
       "      <th>3</th>\n",
       "      <td>drilling_parameter</td>\n",
       "      <td>Параметры бурения в реальном времени</td>\n",
       "      <td>{'rop_average': 'Средняя скорость проходки (м/...</td>\n",
       "      <td>Техпараметры бурения</td>\n",
       "    </tr>\n",
       "    <tr>\n",
       "      <th>4</th>\n",
       "      <td>operation</td>\n",
       "      <td>Журнал операций по скважине</td>\n",
       "      <td>{'operation_type': 'Тип операции (бурение, спу...</td>\n",
       "      <td>Мониторинг</td>\n",
       "    </tr>\n",
       "  </tbody>\n",
       "</table>\n",
       "</div>"
      ],
      "text/plain": [
       "                         table                                 description  \\\n",
       "0                      bha_run    Журнал работы бурового инструмента (BHA)   \n",
       "1  auto_drilling_program_stage  Этапы автоматизированной программы бурения   \n",
       "2        auto_drilling_program           Программы автоматического бурения   \n",
       "3           drilling_parameter        Параметры бурения в реальном времени   \n",
       "4                    operation                 Журнал операций по скважине   \n",
       "\n",
       "                                               param                 class  \n",
       "0  {'well_id': 'ID скважины', 'interval_from/to':...  Техпараметры бурения  \n",
       "1  {'depth_from/to': 'Глубина начала/окончания эт...   Управление бурением  \n",
       "2  {'well_id': 'ID скважины', 'depth_from/to': 'Ц...   Управление бурением  \n",
       "3  {'rop_average': 'Средняя скорость проходки (м/...  Техпараметры бурения  \n",
       "4  {'operation_type': 'Тип операции (бурение, спу...            Мониторинг  "
      ]
     },
     "execution_count": 4,
     "metadata": {},
     "output_type": "execute_result"
    }
   ],
   "source": [
    "df.head()"
   ]
  },
  {
   "cell_type": "code",
   "execution_count": 4,
   "metadata": {},
   "outputs": [],
   "source": [
    "def replace_slash(text):\n",
    "    return str(text).replace('/', ' ')"
   ]
  },
  {
   "cell_type": "code",
   "execution_count": 5,
   "metadata": {},
   "outputs": [],
   "source": [
    "def params_to_str(params):\n",
    "    if isinstance(params, dict):\n",
    "        param_str = ' '.join([f\"{k} {v}\" for k, v in params.items()])  # Ключ и значение через пробел\n",
    "        return replace_slash(param_str)  # Заменяем слэши\n",
    "    return replace_slash(str(params))"
   ]
  },
  {
   "cell_type": "code",
   "execution_count": 7,
   "metadata": {},
   "outputs": [
    {
     "data": {
      "text/plain": [
       "'well_id ID скважины interval_from to Интервал бурения (м) chisel_type size Тип размер долота nnd_min max avg Мин макс средняя нагрузка на долото (тс) pressure_min max Давление (атм) time_duration_hours Продолжительность работы (часы)'"
      ]
     },
     "execution_count": 7,
     "metadata": {},
     "output_type": "execute_result"
    }
   ],
   "source": [
    "params_to_str(df.param[0])"
   ]
  },
  {
   "cell_type": "code",
   "execution_count": 6,
   "metadata": {},
   "outputs": [],
   "source": [
    "df['combined_text'] = (\n",
    "    df['description'].str.lower() + ' ' +\n",
    "    df['param'].apply(params_to_str).str.lower() + ' ' +\n",
    "    df['class'].str.lower()\n",
    ")"
   ]
  },
  {
   "cell_type": "code",
   "execution_count": 11,
   "metadata": {},
   "outputs": [
    {
     "data": {
      "text/html": [
       "<div>\n",
       "<style scoped>\n",
       "    .dataframe tbody tr th:only-of-type {\n",
       "        vertical-align: middle;\n",
       "    }\n",
       "\n",
       "    .dataframe tbody tr th {\n",
       "        vertical-align: top;\n",
       "    }\n",
       "\n",
       "    .dataframe thead th {\n",
       "        text-align: right;\n",
       "    }\n",
       "</style>\n",
       "<table border=\"1\" class=\"dataframe\">\n",
       "  <thead>\n",
       "    <tr style=\"text-align: right;\">\n",
       "      <th></th>\n",
       "      <th>table</th>\n",
       "      <th>description</th>\n",
       "      <th>param</th>\n",
       "      <th>class</th>\n",
       "      <th>combined_text</th>\n",
       "    </tr>\n",
       "  </thead>\n",
       "  <tbody>\n",
       "    <tr>\n",
       "      <th>0</th>\n",
       "      <td>bha_run</td>\n",
       "      <td>Журнал работы бурового инструмента (BHA)</td>\n",
       "      <td>{'well_id': 'ID скважины', 'interval_from/to':...</td>\n",
       "      <td>Техпараметры бурения</td>\n",
       "      <td>журнал работы бурового инструмента (bha) well_...</td>\n",
       "    </tr>\n",
       "    <tr>\n",
       "      <th>1</th>\n",
       "      <td>auto_drilling_program_stage</td>\n",
       "      <td>Этапы автоматизированной программы бурения</td>\n",
       "      <td>{'depth_from/to': 'Глубина начала/окончания эт...</td>\n",
       "      <td>Управление бурением</td>\n",
       "      <td>этапы автоматизированной программы бурения dep...</td>\n",
       "    </tr>\n",
       "    <tr>\n",
       "      <th>2</th>\n",
       "      <td>auto_drilling_program</td>\n",
       "      <td>Программы автоматического бурения</td>\n",
       "      <td>{'well_id': 'ID скважины', 'depth_from/to': 'Ц...</td>\n",
       "      <td>Управление бурением</td>\n",
       "      <td>программы автоматического бурения well_id id с...</td>\n",
       "    </tr>\n",
       "    <tr>\n",
       "      <th>3</th>\n",
       "      <td>drilling_parameter</td>\n",
       "      <td>Параметры бурения в реальном времени</td>\n",
       "      <td>{'rop_average': 'Средняя скорость проходки (м/...</td>\n",
       "      <td>Техпараметры бурения</td>\n",
       "      <td>параметры бурения в реальном времени rop_avera...</td>\n",
       "    </tr>\n",
       "    <tr>\n",
       "      <th>4</th>\n",
       "      <td>operation</td>\n",
       "      <td>Журнал операций по скважине</td>\n",
       "      <td>{'operation_type': 'Тип операции (бурение, спу...</td>\n",
       "      <td>Мониторинг</td>\n",
       "      <td>журнал операций по скважине operation_type тип...</td>\n",
       "    </tr>\n",
       "  </tbody>\n",
       "</table>\n",
       "</div>"
      ],
      "text/plain": [
       "                         table                                 description  \\\n",
       "0                      bha_run    Журнал работы бурового инструмента (BHA)   \n",
       "1  auto_drilling_program_stage  Этапы автоматизированной программы бурения   \n",
       "2        auto_drilling_program           Программы автоматического бурения   \n",
       "3           drilling_parameter        Параметры бурения в реальном времени   \n",
       "4                    operation                 Журнал операций по скважине   \n",
       "\n",
       "                                               param                 class  \\\n",
       "0  {'well_id': 'ID скважины', 'interval_from/to':...  Техпараметры бурения   \n",
       "1  {'depth_from/to': 'Глубина начала/окончания эт...   Управление бурением   \n",
       "2  {'well_id': 'ID скважины', 'depth_from/to': 'Ц...   Управление бурением   \n",
       "3  {'rop_average': 'Средняя скорость проходки (м/...  Техпараметры бурения   \n",
       "4  {'operation_type': 'Тип операции (бурение, спу...            Мониторинг   \n",
       "\n",
       "                                       combined_text  \n",
       "0  журнал работы бурового инструмента (bha) well_...  \n",
       "1  этапы автоматизированной программы бурения dep...  \n",
       "2  программы автоматического бурения well_id id с...  \n",
       "3  параметры бурения в реальном времени rop_avera...  \n",
       "4  журнал операций по скважине operation_type тип...  "
      ]
     },
     "execution_count": 11,
     "metadata": {},
     "output_type": "execute_result"
    }
   ],
   "source": [
    "df.head()"
   ]
  },
  {
   "cell_type": "code",
   "execution_count": 9,
   "metadata": {},
   "outputs": [
    {
     "data": {
      "text/plain": [
       "'журнал работы бурового инструмента (bha) well_id id скважины interval_from to интервал бурения (м) chisel_type size тип размер долота nnd_min max avg мин макс средняя нагрузка на долото (тс) pressure_min max давление (атм) time_duration_hours продолжительность работы (часы) техпараметры бурения'"
      ]
     },
     "execution_count": 9,
     "metadata": {},
     "output_type": "execute_result"
    }
   ],
   "source": [
    "df.combined_text[0]"
   ]
  },
  {
   "cell_type": "code",
   "execution_count": 50,
   "metadata": {},
   "outputs": [],
   "source": [
    "reranker_model = CrossEncoder(\n",
    "    model_name=\"DiTy/cross-encoder-russian-msmarco\",\n",
    "    max_length=512)"
   ]
  },
  {
   "cell_type": "code",
   "execution_count": 7,
   "metadata": {},
   "outputs": [],
   "source": [
    "query = \"какие шаблонные размеры имеет лист документа\""
   ]
  },
  {
   "cell_type": "code",
   "execution_count": 28,
   "metadata": {},
   "outputs": [],
   "source": [
    "candidates = [\n",
    "    \"Позиция была создана в 1849 году, за год до того, как Калифорния стала штатом. Нынешний губернатор - Джерри Браун, демократ, вступивший в должность 3 января 2011 года и ранее занимавший пост губернатора с 1975 по 1983 год. В октябре 2013 года Браун превзошел графа Уоррена по самому продолжительному совокупному периоду времени, когда он занимал пост губернатора. Из 38 губернаторов, занимавших этот пост, семь из них фактически родились в Калифорнии (шесть из них после обретения статуса штата): 2 Один (Ромуальдо Пачеко) родился в Санта-Барбаре. 3 Четверо (Джордж Парди, Джеймс Рольф, Пэт Браун и Джерри Браун) родились в Сан-Франциско.\",\n",
    "    \"Исполняющий обязанности губернатора - это конституционная должность, созданная в некоторых штатах США, когда губернатор умирает при исполнении служебных обязанностей или уходит в отставку. В некоторых штатах губернатор может быть объявлен недееспособным и неспособным работать по разным причинам, включая болезнь и отсутствие в штате более определенного периода. Исполняющий обязанности губернатора исполняет обязанности до следующих всеобщих выборов, пока губернатор не выздоровеет. от его / ее травм, или, если губернатор умирает / уходит в отставку менее чем за 16 месяцев до окончания срока, до конца срока.\",\n",
    "    'Каждый лист документа должен иметь поля: левое – не менее 25 мм, правое – 15−20 мм, верхнее и нижнее – не менее 20 мм. Документы печатаются, как правило, на одной стороне листа. При печатании документа на оборотной стороне листа размер левого поля должен быть 15–20 мм, правого – не менее 25 мм, верхнего и нижнего – не менее 20 мм.',\n",
    "    \"На основе описей дел постоянного хранения и дел по личному составу составляются в соответствии с рекомендациями и требованиями соответствующего архивного учреждения годовые разделы соответствующих сводных описей дел аппарата управления общества, а также филиала и структурного подразделения, относящихся к источникам комплектования Архивного фонда Российской Федерации и заключивших с архивным учреждением договор о сотрудничестве (приложение № 16).\",\n",
    "    \"Входящие документы, не требующие рассмотрения руководителем общества (его заместителями), направляются работником службы делопроизводства непосредственно в подразделения общества.\",\n",
    "    \"Если в поступившем документе имеется ссылка на другие документы, отдел документационного обеспечения или служба делопроизводства соответствующего подразделения прилагает их (их копии) к поступившему документу.\",\n",
    "]"
   ]
  },
  {
   "cell_type": "code",
   "execution_count": 8,
   "metadata": {},
   "outputs": [],
   "source": [
    "candidates = df.combined_text.tolist()"
   ]
  },
  {
   "cell_type": "code",
   "execution_count": 7,
   "metadata": {},
   "outputs": [],
   "source": [
    "query = \"Выведи данные о всех пользователях\""
   ]
  },
  {
   "cell_type": "code",
   "execution_count": 64,
   "metadata": {},
   "outputs": [],
   "source": [
    "rank_result = reranker_model.rank(query, candidates[0:20])"
   ]
  },
  {
   "cell_type": "code",
   "execution_count": 65,
   "metadata": {},
   "outputs": [
    {
     "data": {
      "text/plain": [
       "[{'corpus_id': 18, 'score': 0.0041263895},\n",
       " {'corpus_id': 19, 'score': 0.002956605},\n",
       " {'corpus_id': 3, 'score': 0.0027691661},\n",
       " {'corpus_id': 6, 'score': 0.0022125598},\n",
       " {'corpus_id': 8, 'score': 0.0021909778},\n",
       " {'corpus_id': 16, 'score': 0.0014262607},\n",
       " {'corpus_id': 0, 'score': 0.0013529216},\n",
       " {'corpus_id': 4, 'score': 0.0013425458},\n",
       " {'corpus_id': 12, 'score': 0.0013191095},\n",
       " {'corpus_id': 1, 'score': 0.0011970515},\n",
       " {'corpus_id': 9, 'score': 0.0011938985},\n",
       " {'corpus_id': 10, 'score': 0.0011808786},\n",
       " {'corpus_id': 14, 'score': 0.0011798189},\n",
       " {'corpus_id': 13, 'score': 0.0011794363},\n",
       " {'corpus_id': 5, 'score': 0.0011696541},\n",
       " {'corpus_id': 17, 'score': 0.0011261913},\n",
       " {'corpus_id': 15, 'score': 0.0010985039},\n",
       " {'corpus_id': 11, 'score': 0.0010840694},\n",
       " {'corpus_id': 2, 'score': 0.0010823255},\n",
       " {'corpus_id': 7, 'score': 0.0010739246}]"
      ]
     },
     "execution_count": 65,
     "metadata": {},
     "output_type": "execute_result"
    }
   ],
   "source": [
    "rank_result"
   ]
  },
  {
   "cell_type": "code",
   "execution_count": 39,
   "metadata": {},
   "outputs": [
    {
     "data": {
      "text/plain": [
       "'пользователи системы username логин role_old роль (устаревшее) organization организация управление доступом'"
      ]
     },
     "execution_count": 39,
     "metadata": {},
     "output_type": "execute_result"
    }
   ],
   "source": [
    "candidates[134]"
   ]
  },
  {
   "cell_type": "code",
   "execution_count": 41,
   "metadata": {},
   "outputs": [
    {
     "data": {
      "text/plain": [
       "table                                                        tasks\n",
       "description                                 Фоновые задачи системы\n",
       "param            {'payload': 'Данные задачи (JSON)', 'status': ...\n",
       "class                                                Автоматизация\n",
       "combined_text    фоновые задачи системы payload данные задачи (...\n",
       "Name: 157, dtype: object"
      ]
     },
     "execution_count": 41,
     "metadata": {},
     "output_type": "execute_result"
    }
   ],
   "source": [
    "df.iloc[157]"
   ]
  },
  {
   "cell_type": "code",
   "execution_count": 56,
   "metadata": {},
   "outputs": [],
   "source": [
    "model = SentenceTransformer(\n",
    "    model_name_or_path=\"DiTy/bi-encoder-russian-msmarco\")"
   ]
  },
  {
   "cell_type": "code",
   "execution_count": 57,
   "metadata": {},
   "outputs": [],
   "source": [
    "import torch\n",
    "\n",
    "\n",
    "def normalize_embeddings(emb):\n",
    "    return torch.nn.functional.normalize(torch.Tensor(emb).unsqueeze(0), p=2, dim=1)\n",
    "\n",
    "\n",
    "def cos_sim(a, b):\n",
    "    a_norm = normalize_embeddings(a)\n",
    "    b_norm = normalize_embeddings(b)\n",
    "\n",
    "    return torch.mm(a_norm, b_norm.transpose(0, 1)).item()\n",
    "\n",
    "\n",
    "def semantic_search(query, candidates, top_k=1):\n",
    "    assert candidates.shape[0] >= top_k, \"Error, count candidates < top_k value\"\n",
    "    scores = []\n",
    "\n",
    "    for candidate in candidates:\n",
    "        # считаем косинусную близость по каждому кандидату\n",
    "        scores.append(cos_sim(query, candidate))\n",
    "    # выбираем только top-k кандидатов\n",
    "    values, ids = torch.topk(torch.Tensor(scores), k=top_k, sorted=True)\n",
    "\n",
    "    return [{'id': id_, 'score': value_} for id_, value_ in zip(ids.cpu().tolist(), values.cpu().tolist())]"
   ]
  },
  {
   "cell_type": "code",
   "execution_count": 58,
   "metadata": {},
   "outputs": [],
   "source": [
    "# преобразуем кандидатов в векторы\n",
    "embeddings = model.encode(candidates)\n",
    "# преобразуем запрос в вектор\n",
    "query_embeddings = model.encode(query)"
   ]
  },
  {
   "cell_type": "code",
   "execution_count": 59,
   "metadata": {},
   "outputs": [],
   "source": [
    "results = semantic_search(query_embeddings, embeddings, top_k=5)"
   ]
  },
  {
   "cell_type": "code",
   "execution_count": 60,
   "metadata": {},
   "outputs": [
    {
     "data": {
      "text/plain": [
       "[{'id': 151, 'score': 0.22965764999389648},\n",
       " {'id': 149, 'score': 0.1542915403842926},\n",
       " {'id': 20, 'score': 0.14054036140441895},\n",
       " {'id': 133, 'score': 0.12165237963199615},\n",
       " {'id': 97, 'score': 0.09457278251647949}]"
      ]
     },
     "execution_count": 60,
     "metadata": {},
     "output_type": "execute_result"
    }
   ],
   "source": [
    "results"
   ]
  },
  {
   "cell_type": "code",
   "execution_count": 63,
   "metadata": {},
   "outputs": [
    {
     "data": {
      "text/plain": [
       "table                                      work_of_special_technic\n",
       "description                                     Работа спецтехники\n",
       "param            {'vehicle_name': 'Тип техники', 'quantity': 'К...\n",
       "class                                                    Логистика\n",
       "combined_text    работа спецтехники vehicle_name тип техники qu...\n",
       "Name: 20, dtype: object"
      ]
     },
     "execution_count": 63,
     "metadata": {},
     "output_type": "execute_result"
    }
   ],
   "source": [
    "df.iloc[20]"
   ]
  },
  {
   "cell_type": "code",
   "execution_count": 9,
   "metadata": {},
   "outputs": [],
   "source": [
    "from vectorizer import create_table_embeddings, find_relevant_tables"
   ]
  },
  {
   "cell_type": "code",
   "execution_count": 10,
   "metadata": {},
   "outputs": [],
   "source": [
    "table_embeddings = create_table_embeddings(candidates)"
   ]
  },
  {
   "cell_type": "code",
   "execution_count": 11,
   "metadata": {},
   "outputs": [],
   "source": [
    "relevant_tables = find_relevant_tables(query, table_embeddings, 40)"
   ]
  },
  {
   "cell_type": "code",
   "execution_count": 21,
   "metadata": {},
   "outputs": [
    {
     "data": {
      "text/plain": [
       "[74,\n",
       " 49,\n",
       " 92,\n",
       " 138,\n",
       " 144,\n",
       " 106,\n",
       " 68,\n",
       " 152,\n",
       " 148,\n",
       " 38,\n",
       " 67,\n",
       " 133,\n",
       " 71,\n",
       " 19,\n",
       " 9,\n",
       " 46,\n",
       " 87,\n",
       " 10,\n",
       " 125,\n",
       " 2,\n",
       " 8,\n",
       " 130,\n",
       " 111,\n",
       " 108,\n",
       " 134,\n",
       " 88,\n",
       " 15,\n",
       " 141,\n",
       " 158,\n",
       " 56]"
      ]
     },
     "execution_count": 21,
     "metadata": {},
     "output_type": "execute_result"
    }
   ],
   "source": [
    "relevant_tables[10:]"
   ]
  },
  {
   "cell_type": "code",
   "execution_count": 23,
   "metadata": {},
   "outputs": [
    {
     "data": {
      "text/plain": [
       "table                                      work_of_special_technic\n",
       "description                          Работа спецтехники по проекту\n",
       "param            {'vehicle_name': 'Тип техники', 'total_quantit...\n",
       "class                                                    Логистика\n",
       "combined_text    работа спецтехники по проекту vehicle_name тип...\n",
       "Name: 133, dtype: object"
      ]
     },
     "execution_count": 23,
     "metadata": {},
     "output_type": "execute_result"
    }
   ],
   "source": [
    "df.iloc[133]"
   ]
  },
  {
   "cell_type": "code",
   "execution_count": 20,
   "metadata": {},
   "outputs": [
    {
     "data": {
      "text/html": [
       "<div>\n",
       "<style scoped>\n",
       "    .dataframe tbody tr th:only-of-type {\n",
       "        vertical-align: middle;\n",
       "    }\n",
       "\n",
       "    .dataframe tbody tr th {\n",
       "        vertical-align: top;\n",
       "    }\n",
       "\n",
       "    .dataframe thead th {\n",
       "        text-align: right;\n",
       "    }\n",
       "</style>\n",
       "<table border=\"1\" class=\"dataframe\">\n",
       "  <thead>\n",
       "    <tr style=\"text-align: right;\">\n",
       "      <th></th>\n",
       "      <th>table</th>\n",
       "      <th>description</th>\n",
       "      <th>param</th>\n",
       "      <th>class</th>\n",
       "      <th>combined_text</th>\n",
       "    </tr>\n",
       "  </thead>\n",
       "  <tbody>\n",
       "    <tr>\n",
       "      <th>130</th>\n",
       "      <td>project_knbk</td>\n",
       "      <td>Проектные КНБК</td>\n",
       "      <td>{'outer_diameter': 'Наружный диаметр (мм)', 'r...</td>\n",
       "      <td>Инструмент</td>\n",
       "      <td>проектные кнбк outer_diameter наружный диаметр...</td>\n",
       "    </tr>\n",
       "    <tr>\n",
       "      <th>131</th>\n",
       "      <td>project_liquors_plan</td>\n",
       "      <td>Параметры буровых растворов</td>\n",
       "      <td>{'density_min/max': 'Плотность (г/см³)', 'filt...</td>\n",
       "      <td>Буровые растворы</td>\n",
       "      <td>параметры буровых растворов density_min max пл...</td>\n",
       "    </tr>\n",
       "    <tr>\n",
       "      <th>132</th>\n",
       "      <td>project_pressure_gradients_by_section</td>\n",
       "      <td>Градиенты давления по интервалам</td>\n",
       "      <td>{'interval_from/to': 'Интервал (м)', 'fracture...</td>\n",
       "      <td>Геомеханика</td>\n",
       "      <td>градиенты давления по интервалам interval_from...</td>\n",
       "    </tr>\n",
       "    <tr>\n",
       "      <th>133</th>\n",
       "      <td>work_of_special_technic</td>\n",
       "      <td>Работа спецтехники по проекту</td>\n",
       "      <td>{'vehicle_name': 'Тип техники', 'total_quantit...</td>\n",
       "      <td>Логистика</td>\n",
       "      <td>работа спецтехники по проекту vehicle_name тип...</td>\n",
       "    </tr>\n",
       "    <tr>\n",
       "      <th>134</th>\n",
       "      <td>users</td>\n",
       "      <td>Пользователи системы</td>\n",
       "      <td>{'username': 'Логин', 'role_old': 'Роль (устар...</td>\n",
       "      <td>Управление доступом</td>\n",
       "      <td>пользователи системы username логин role_old р...</td>\n",
       "    </tr>\n",
       "    <tr>\n",
       "      <th>135</th>\n",
       "      <td>permissions</td>\n",
       "      <td>Права доступа</td>\n",
       "      <td>{'code': 'Код права', 'group_title': 'Группа п...</td>\n",
       "      <td>Управление доступом</td>\n",
       "      <td>права доступа code код права group_title групп...</td>\n",
       "    </tr>\n",
       "    <tr>\n",
       "      <th>136</th>\n",
       "      <td>user_permissions</td>\n",
       "      <td>Назначение прав пользователям</td>\n",
       "      <td>{'user_id': 'ID пользователя', 'permission_cod...</td>\n",
       "      <td>Управление доступом</td>\n",
       "      <td>назначение прав пользователям user_id id польз...</td>\n",
       "    </tr>\n",
       "    <tr>\n",
       "      <th>137</th>\n",
       "      <td>user_settings</td>\n",
       "      <td>Персональные настройки</td>\n",
       "      <td>{'user_id': 'ID пользователя', 'data': 'Данные...</td>\n",
       "      <td>Конфигурация</td>\n",
       "      <td>персональные настройки user_id id пользователя...</td>\n",
       "    </tr>\n",
       "    <tr>\n",
       "      <th>138</th>\n",
       "      <td>nci_casing_column_names</td>\n",
       "      <td>Наименования обсадных колонн</td>\n",
       "      <td>{'value': 'Название (кондуктор, эксплуатационн...</td>\n",
       "      <td>Конструкция скважин</td>\n",
       "      <td>наименования обсадных колонн value название (к...</td>\n",
       "    </tr>\n",
       "    <tr>\n",
       "      <th>139</th>\n",
       "      <td>nci_work_types</td>\n",
       "      <td>Типы работ</td>\n",
       "      <td>{'key': 'Код', 'value': 'Наименование', 'is_sh...</td>\n",
       "      <td>Классификатор</td>\n",
       "      <td>типы работ key код value наименование is_show_...</td>\n",
       "    </tr>\n",
       "  </tbody>\n",
       "</table>\n",
       "</div>"
      ],
      "text/plain": [
       "                                     table                       description  \\\n",
       "130                           project_knbk                    Проектные КНБК   \n",
       "131                   project_liquors_plan       Параметры буровых растворов   \n",
       "132  project_pressure_gradients_by_section  Градиенты давления по интервалам   \n",
       "133                work_of_special_technic     Работа спецтехники по проекту   \n",
       "134                                  users              Пользователи системы   \n",
       "135                            permissions                     Права доступа   \n",
       "136                       user_permissions     Назначение прав пользователям   \n",
       "137                          user_settings            Персональные настройки   \n",
       "138                nci_casing_column_names      Наименования обсадных колонн   \n",
       "139                         nci_work_types                        Типы работ   \n",
       "\n",
       "                                                 param                class  \\\n",
       "130  {'outer_diameter': 'Наружный диаметр (мм)', 'r...           Инструмент   \n",
       "131  {'density_min/max': 'Плотность (г/см³)', 'filt...     Буровые растворы   \n",
       "132  {'interval_from/to': 'Интервал (м)', 'fracture...          Геомеханика   \n",
       "133  {'vehicle_name': 'Тип техники', 'total_quantit...            Логистика   \n",
       "134  {'username': 'Логин', 'role_old': 'Роль (устар...  Управление доступом   \n",
       "135  {'code': 'Код права', 'group_title': 'Группа п...  Управление доступом   \n",
       "136  {'user_id': 'ID пользователя', 'permission_cod...  Управление доступом   \n",
       "137  {'user_id': 'ID пользователя', 'data': 'Данные...         Конфигурация   \n",
       "138  {'value': 'Название (кондуктор, эксплуатационн...  Конструкция скважин   \n",
       "139  {'key': 'Код', 'value': 'Наименование', 'is_sh...        Классификатор   \n",
       "\n",
       "                                         combined_text  \n",
       "130  проектные кнбк outer_diameter наружный диаметр...  \n",
       "131  параметры буровых растворов density_min max пл...  \n",
       "132  градиенты давления по интервалам interval_from...  \n",
       "133  работа спецтехники по проекту vehicle_name тип...  \n",
       "134  пользователи системы username логин role_old р...  \n",
       "135  права доступа code код права group_title групп...  \n",
       "136  назначение прав пользователям user_id id польз...  \n",
       "137  персональные настройки user_id id пользователя...  \n",
       "138  наименования обсадных колонн value название (к...  \n",
       "139  типы работ key код value наименование is_show_...  "
      ]
     },
     "execution_count": 20,
     "metadata": {},
     "output_type": "execute_result"
    }
   ],
   "source": [
    "df[130:140]"
   ]
  },
  {
   "cell_type": "code",
   "execution_count": null,
   "metadata": {},
   "outputs": [],
   "source": []
  }
 ],
 "metadata": {
  "kernelspec": {
   "display_name": "Python 3",
   "language": "python",
   "name": "python3"
  },
  "language_info": {
   "codemirror_mode": {
    "name": "ipython",
    "version": 3
   },
   "file_extension": ".py",
   "mimetype": "text/x-python",
   "name": "python",
   "nbconvert_exporter": "python",
   "pygments_lexer": "ipython3",
   "version": "3.11.7"
  }
 },
 "nbformat": 4,
 "nbformat_minor": 2
}
